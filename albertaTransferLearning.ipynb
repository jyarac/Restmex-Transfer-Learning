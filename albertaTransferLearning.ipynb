{
 "cells": [
  {
   "cell_type": "markdown",
   "id": "75da71ea",
   "metadata": {
    "id": "3x6f4GzfDFgW",
    "papermill": {
     "duration": 0.009467,
     "end_time": "2023-06-29T08:50:27.665223",
     "exception": false,
     "start_time": "2023-06-29T08:50:27.655756",
     "status": "completed"
    },
    "tags": []
   },
   "source": [
    "# Importacion de dataset y librerias necesarias.\n"
   ]
  },
  {
   "cell_type": "code",
   "execution_count": 1,
   "id": "a4dc67ce",
   "metadata": {
    "execution": {
     "iopub.execute_input": "2023-06-29T08:50:27.688058Z",
     "iopub.status.busy": "2023-06-29T08:50:27.687638Z",
     "iopub.status.idle": "2023-06-29T08:51:16.245764Z",
     "shell.execute_reply": "2023-06-29T08:51:16.244553Z"
    },
    "id": "qfutpP3xD0f0",
    "outputId": "6f203afb-ff4e-4fa7-a833-c83b1dc348d7",
    "papermill": {
     "duration": 48.57215,
     "end_time": "2023-06-29T08:51:16.248663",
     "exception": false,
     "start_time": "2023-06-29T08:50:27.676513",
     "status": "completed"
    },
    "tags": []
   },
   "outputs": [
    {
     "name": "stdout",
     "output_type": "stream",
     "text": [
      "Requirement already satisfied: datasets in /opt/conda/lib/python3.10/site-packages (2.1.0)\r\n"
     ]
    },
    {
     "name": "stdout",
     "output_type": "stream",
     "text": [
      "Requirement already satisfied: numpy>=1.17 in /opt/conda/lib/python3.10/site-packages (from datasets) (1.23.5)\r\n",
      "Requirement already satisfied: pyarrow>=5.0.0 in /opt/conda/lib/python3.10/site-packages (from datasets) (11.0.0)\r\n",
      "Requirement already satisfied: dill in /opt/conda/lib/python3.10/site-packages (from datasets) (0.3.6)\r\n",
      "Requirement already satisfied: pandas in /opt/conda/lib/python3.10/site-packages (from datasets) (1.5.3)\r\n",
      "Requirement already satisfied: requests>=2.19.0 in /opt/conda/lib/python3.10/site-packages (from datasets) (2.28.2)\r\n"
     ]
    },
    {
     "name": "stdout",
     "output_type": "stream",
     "text": [
      "Requirement already satisfied: tqdm>=4.62.1 in /opt/conda/lib/python3.10/site-packages (from datasets) (4.64.1)\r\n",
      "Requirement already satisfied: xxhash in /opt/conda/lib/python3.10/site-packages (from datasets) (3.2.0)\r\n",
      "Requirement already satisfied: multiprocess in /opt/conda/lib/python3.10/site-packages (from datasets) (0.70.14)\r\n",
      "Requirement already satisfied: fsspec[http]>=2021.05.0 in /opt/conda/lib/python3.10/site-packages (from datasets) (2023.6.0)\r\n",
      "Requirement already satisfied: aiohttp in /opt/conda/lib/python3.10/site-packages (from datasets) (3.8.4)\r\n",
      "Requirement already satisfied: huggingface-hub<1.0.0,>=0.1.0 in /opt/conda/lib/python3.10/site-packages (from datasets) (0.15.1)\r\n",
      "Requirement already satisfied: packaging in /opt/conda/lib/python3.10/site-packages (from datasets) (21.3)\r\n",
      "Requirement already satisfied: responses<0.19 in /opt/conda/lib/python3.10/site-packages (from datasets) (0.18.0)\r\n"
     ]
    },
    {
     "name": "stdout",
     "output_type": "stream",
     "text": [
      "Requirement already satisfied: attrs>=17.3.0 in /opt/conda/lib/python3.10/site-packages (from aiohttp->datasets) (23.1.0)\r\n",
      "Requirement already satisfied: charset-normalizer<4.0,>=2.0 in /opt/conda/lib/python3.10/site-packages (from aiohttp->datasets) (2.1.1)\r\n",
      "Requirement already satisfied: multidict<7.0,>=4.5 in /opt/conda/lib/python3.10/site-packages (from aiohttp->datasets) (6.0.4)\r\n",
      "Requirement already satisfied: async-timeout<5.0,>=4.0.0a3 in /opt/conda/lib/python3.10/site-packages (from aiohttp->datasets) (4.0.2)\r\n",
      "Requirement already satisfied: yarl<2.0,>=1.0 in /opt/conda/lib/python3.10/site-packages (from aiohttp->datasets) (1.9.1)\r\n",
      "Requirement already satisfied: frozenlist>=1.1.1 in /opt/conda/lib/python3.10/site-packages (from aiohttp->datasets) (1.3.3)\r\n",
      "Requirement already satisfied: aiosignal>=1.1.2 in /opt/conda/lib/python3.10/site-packages (from aiohttp->datasets) (1.3.1)\r\n"
     ]
    },
    {
     "name": "stdout",
     "output_type": "stream",
     "text": [
      "Requirement already satisfied: filelock in /opt/conda/lib/python3.10/site-packages (from huggingface-hub<1.0.0,>=0.1.0->datasets) (3.12.0)\r\n",
      "Requirement already satisfied: pyyaml>=5.1 in /opt/conda/lib/python3.10/site-packages (from huggingface-hub<1.0.0,>=0.1.0->datasets) (5.4.1)\r\n"
     ]
    },
    {
     "name": "stdout",
     "output_type": "stream",
     "text": [
      "Requirement already satisfied: typing-extensions>=3.7.4.3 in /opt/conda/lib/python3.10/site-packages (from huggingface-hub<1.0.0,>=0.1.0->datasets) (4.5.0)\r\n",
      "Requirement already satisfied: pyparsing!=3.0.5,>=2.0.2 in /opt/conda/lib/python3.10/site-packages (from packaging->datasets) (3.0.9)\r\n",
      "Requirement already satisfied: idna<4,>=2.5 in /opt/conda/lib/python3.10/site-packages (from requests>=2.19.0->datasets) (3.4)\r\n",
      "Requirement already satisfied: urllib3<1.27,>=1.21.1 in /opt/conda/lib/python3.10/site-packages (from requests>=2.19.0->datasets) (1.26.15)\r\n",
      "Requirement already satisfied: certifi>=2017.4.17 in /opt/conda/lib/python3.10/site-packages (from requests>=2.19.0->datasets) (2023.5.7)\r\n"
     ]
    },
    {
     "name": "stdout",
     "output_type": "stream",
     "text": [
      "Requirement already satisfied: python-dateutil>=2.8.1 in /opt/conda/lib/python3.10/site-packages (from pandas->datasets) (2.8.2)\r\n",
      "Requirement already satisfied: pytz>=2020.1 in /opt/conda/lib/python3.10/site-packages (from pandas->datasets) (2023.3)\r\n"
     ]
    },
    {
     "name": "stdout",
     "output_type": "stream",
     "text": [
      "Requirement already satisfied: six>=1.5 in /opt/conda/lib/python3.10/site-packages (from python-dateutil>=2.8.1->pandas->datasets) (1.16.0)\r\n"
     ]
    },
    {
     "name": "stdout",
     "output_type": "stream",
     "text": [
      "\u001b[33mWARNING: Running pip as the 'root' user can result in broken permissions and conflicting behaviour with the system package manager. It is recommended to use a virtual environment instead: https://pip.pypa.io/warnings/venv\u001b[0m\u001b[33m\r\n",
      "\u001b[0m"
     ]
    },
    {
     "name": "stdout",
     "output_type": "stream",
     "text": [
      "Collecting evaluate\r\n"
     ]
    },
    {
     "name": "stdout",
     "output_type": "stream",
     "text": [
      "  Downloading evaluate-0.4.0-py3-none-any.whl (81 kB)\r\n",
      "\u001b[?25l     \u001b[90m━━━━━━━━━━━━━━━━━━━━━━━━━━━━━━━━━━━━━━━━\u001b[0m \u001b[32m0.0/81.4 kB\u001b[0m \u001b[31m?\u001b[0m eta \u001b[36m-:--:--\u001b[0m"
     ]
    },
    {
     "name": "stdout",
     "output_type": "stream",
     "text": [
      "\r",
      "\u001b[2K     \u001b[90m━━━━━━━━━━━━━━━━━━━━━━━━━━━━━━━━━━━━━━━━\u001b[0m \u001b[32m81.4/81.4 kB\u001b[0m \u001b[31m3.0 MB/s\u001b[0m eta \u001b[36m0:00:00\u001b[0m\r\n",
      "\u001b[?25h"
     ]
    },
    {
     "name": "stdout",
     "output_type": "stream",
     "text": [
      "Requirement already satisfied: datasets>=2.0.0 in /opt/conda/lib/python3.10/site-packages (from evaluate) (2.1.0)\r\n",
      "Requirement already satisfied: numpy>=1.17 in /opt/conda/lib/python3.10/site-packages (from evaluate) (1.23.5)\r\n",
      "Requirement already satisfied: dill in /opt/conda/lib/python3.10/site-packages (from evaluate) (0.3.6)\r\n",
      "Requirement already satisfied: pandas in /opt/conda/lib/python3.10/site-packages (from evaluate) (1.5.3)\r\n",
      "Requirement already satisfied: requests>=2.19.0 in /opt/conda/lib/python3.10/site-packages (from evaluate) (2.28.2)\r\n",
      "Requirement already satisfied: tqdm>=4.62.1 in /opt/conda/lib/python3.10/site-packages (from evaluate) (4.64.1)\r\n",
      "Requirement already satisfied: xxhash in /opt/conda/lib/python3.10/site-packages (from evaluate) (3.2.0)\r\n",
      "Requirement already satisfied: multiprocess in /opt/conda/lib/python3.10/site-packages (from evaluate) (0.70.14)\r\n",
      "Requirement already satisfied: fsspec[http]>=2021.05.0 in /opt/conda/lib/python3.10/site-packages (from evaluate) (2023.6.0)\r\n",
      "Requirement already satisfied: huggingface-hub>=0.7.0 in /opt/conda/lib/python3.10/site-packages (from evaluate) (0.15.1)\r\n",
      "Requirement already satisfied: packaging in /opt/conda/lib/python3.10/site-packages (from evaluate) (21.3)\r\n",
      "Requirement already satisfied: responses<0.19 in /opt/conda/lib/python3.10/site-packages (from evaluate) (0.18.0)\r\n"
     ]
    },
    {
     "name": "stdout",
     "output_type": "stream",
     "text": [
      "Requirement already satisfied: pyarrow>=5.0.0 in /opt/conda/lib/python3.10/site-packages (from datasets>=2.0.0->evaluate) (11.0.0)\r\n",
      "Requirement already satisfied: aiohttp in /opt/conda/lib/python3.10/site-packages (from datasets>=2.0.0->evaluate) (3.8.4)\r\n"
     ]
    },
    {
     "name": "stdout",
     "output_type": "stream",
     "text": [
      "Requirement already satisfied: filelock in /opt/conda/lib/python3.10/site-packages (from huggingface-hub>=0.7.0->evaluate) (3.12.0)\r\n",
      "Requirement already satisfied: pyyaml>=5.1 in /opt/conda/lib/python3.10/site-packages (from huggingface-hub>=0.7.0->evaluate) (5.4.1)\r\n",
      "Requirement already satisfied: typing-extensions>=3.7.4.3 in /opt/conda/lib/python3.10/site-packages (from huggingface-hub>=0.7.0->evaluate) (4.5.0)\r\n"
     ]
    },
    {
     "name": "stdout",
     "output_type": "stream",
     "text": [
      "Requirement already satisfied: pyparsing!=3.0.5,>=2.0.2 in /opt/conda/lib/python3.10/site-packages (from packaging->evaluate) (3.0.9)\r\n",
      "Requirement already satisfied: charset-normalizer<4,>=2 in /opt/conda/lib/python3.10/site-packages (from requests>=2.19.0->evaluate) (2.1.1)\r\n",
      "Requirement already satisfied: idna<4,>=2.5 in /opt/conda/lib/python3.10/site-packages (from requests>=2.19.0->evaluate) (3.4)\r\n",
      "Requirement already satisfied: urllib3<1.27,>=1.21.1 in /opt/conda/lib/python3.10/site-packages (from requests>=2.19.0->evaluate) (1.26.15)\r\n",
      "Requirement already satisfied: certifi>=2017.4.17 in /opt/conda/lib/python3.10/site-packages (from requests>=2.19.0->evaluate) (2023.5.7)\r\n"
     ]
    },
    {
     "name": "stdout",
     "output_type": "stream",
     "text": [
      "Requirement already satisfied: python-dateutil>=2.8.1 in /opt/conda/lib/python3.10/site-packages (from pandas->evaluate) (2.8.2)\r\n",
      "Requirement already satisfied: pytz>=2020.1 in /opt/conda/lib/python3.10/site-packages (from pandas->evaluate) (2023.3)\r\n",
      "Requirement already satisfied: attrs>=17.3.0 in /opt/conda/lib/python3.10/site-packages (from aiohttp->datasets>=2.0.0->evaluate) (23.1.0)\r\n",
      "Requirement already satisfied: multidict<7.0,>=4.5 in /opt/conda/lib/python3.10/site-packages (from aiohttp->datasets>=2.0.0->evaluate) (6.0.4)\r\n",
      "Requirement already satisfied: async-timeout<5.0,>=4.0.0a3 in /opt/conda/lib/python3.10/site-packages (from aiohttp->datasets>=2.0.0->evaluate) (4.0.2)\r\n",
      "Requirement already satisfied: yarl<2.0,>=1.0 in /opt/conda/lib/python3.10/site-packages (from aiohttp->datasets>=2.0.0->evaluate) (1.9.1)\r\n",
      "Requirement already satisfied: frozenlist>=1.1.1 in /opt/conda/lib/python3.10/site-packages (from aiohttp->datasets>=2.0.0->evaluate) (1.3.3)\r\n",
      "Requirement already satisfied: aiosignal>=1.1.2 in /opt/conda/lib/python3.10/site-packages (from aiohttp->datasets>=2.0.0->evaluate) (1.3.1)\r\n"
     ]
    },
    {
     "name": "stdout",
     "output_type": "stream",
     "text": [
      "Requirement already satisfied: six>=1.5 in /opt/conda/lib/python3.10/site-packages (from python-dateutil>=2.8.1->pandas->evaluate) (1.16.0)\r\n"
     ]
    },
    {
     "name": "stdout",
     "output_type": "stream",
     "text": [
      "Installing collected packages: evaluate\r\n"
     ]
    },
    {
     "name": "stdout",
     "output_type": "stream",
     "text": [
      "Successfully installed evaluate-0.4.0\r\n",
      "\u001b[33mWARNING: Running pip as the 'root' user can result in broken permissions and conflicting behaviour with the system package manager. It is recommended to use a virtual environment instead: https://pip.pypa.io/warnings/venv\u001b[0m\u001b[33m\r\n",
      "\u001b[0m"
     ]
    },
    {
     "name": "stdout",
     "output_type": "stream",
     "text": [
      "Collecting transformers==4.28.0\r\n"
     ]
    },
    {
     "name": "stdout",
     "output_type": "stream",
     "text": [
      "  Downloading transformers-4.28.0-py3-none-any.whl (7.0 MB)\r\n",
      "\u001b[?25l     \u001b[90m━━━━━━━━━━━━━━━━━━━━━━━━━━━━━━━━━━━━━━━━\u001b[0m \u001b[32m0.0/7.0 MB\u001b[0m \u001b[31m?\u001b[0m eta \u001b[36m-:--:--\u001b[0m"
     ]
    },
    {
     "name": "stdout",
     "output_type": "stream",
     "text": [
      "\r",
      "\u001b[2K     \u001b[91m━\u001b[0m\u001b[91m╸\u001b[0m\u001b[90m━━━━━━━━━━━━━━━━━━━━━━━━━━━━━━━━━━━━━━\u001b[0m \u001b[32m0.3/7.0 MB\u001b[0m \u001b[31m9.4 MB/s\u001b[0m eta \u001b[36m0:00:01\u001b[0m"
     ]
    },
    {
     "name": "stdout",
     "output_type": "stream",
     "text": [
      "\r",
      "\u001b[2K     \u001b[91m━━━━━━━━━━━━━━━━━━\u001b[0m\u001b[90m╺\u001b[0m\u001b[90m━━━━━━━━━━━━━━━━━━━━━\u001b[0m \u001b[32m3.1/7.0 MB\u001b[0m \u001b[31m45.4 MB/s\u001b[0m eta \u001b[36m0:00:01\u001b[0m\r",
      "\u001b[2K     \u001b[91m━━━━━━━━━━━━━━━━━━━━━━━━━━━━━━━━━━━━━━━\u001b[0m\u001b[91m╸\u001b[0m \u001b[32m6.9/7.0 MB\u001b[0m \u001b[31m73.4 MB/s\u001b[0m eta \u001b[36m0:00:01\u001b[0m"
     ]
    },
    {
     "name": "stdout",
     "output_type": "stream",
     "text": [
      "\r",
      "\u001b[2K     \u001b[90m━━━━━━━━━━━━━━━━━━━━━━━━━━━━━━━━━━━━━━━━\u001b[0m \u001b[32m7.0/7.0 MB\u001b[0m \u001b[31m51.9 MB/s\u001b[0m eta \u001b[36m0:00:00\u001b[0m\r\n",
      "\u001b[?25h"
     ]
    },
    {
     "name": "stdout",
     "output_type": "stream",
     "text": [
      "Requirement already satisfied: datasets in /opt/conda/lib/python3.10/site-packages (2.1.0)\r\n"
     ]
    },
    {
     "name": "stdout",
     "output_type": "stream",
     "text": [
      "Requirement already satisfied: filelock in /opt/conda/lib/python3.10/site-packages (from transformers==4.28.0) (3.12.0)\r\n",
      "Requirement already satisfied: huggingface-hub<1.0,>=0.11.0 in /opt/conda/lib/python3.10/site-packages (from transformers==4.28.0) (0.15.1)\r\n",
      "Requirement already satisfied: numpy>=1.17 in /opt/conda/lib/python3.10/site-packages (from transformers==4.28.0) (1.23.5)\r\n",
      "Requirement already satisfied: packaging>=20.0 in /opt/conda/lib/python3.10/site-packages (from transformers==4.28.0) (21.3)\r\n",
      "Requirement already satisfied: pyyaml>=5.1 in /opt/conda/lib/python3.10/site-packages (from transformers==4.28.0) (5.4.1)\r\n",
      "Requirement already satisfied: regex!=2019.12.17 in /opt/conda/lib/python3.10/site-packages (from transformers==4.28.0) (2023.5.5)\r\n",
      "Requirement already satisfied: requests in /opt/conda/lib/python3.10/site-packages (from transformers==4.28.0) (2.28.2)\r\n",
      "Requirement already satisfied: tokenizers!=0.11.3,<0.14,>=0.11.1 in /opt/conda/lib/python3.10/site-packages (from transformers==4.28.0) (0.13.3)\r\n",
      "Requirement already satisfied: tqdm>=4.27 in /opt/conda/lib/python3.10/site-packages (from transformers==4.28.0) (4.64.1)\r\n"
     ]
    },
    {
     "name": "stdout",
     "output_type": "stream",
     "text": [
      "Requirement already satisfied: pyarrow>=5.0.0 in /opt/conda/lib/python3.10/site-packages (from datasets) (11.0.0)\r\n",
      "Requirement already satisfied: dill in /opt/conda/lib/python3.10/site-packages (from datasets) (0.3.6)\r\n",
      "Requirement already satisfied: pandas in /opt/conda/lib/python3.10/site-packages (from datasets) (1.5.3)\r\n",
      "Requirement already satisfied: xxhash in /opt/conda/lib/python3.10/site-packages (from datasets) (3.2.0)\r\n",
      "Requirement already satisfied: multiprocess in /opt/conda/lib/python3.10/site-packages (from datasets) (0.70.14)\r\n",
      "Requirement already satisfied: fsspec[http]>=2021.05.0 in /opt/conda/lib/python3.10/site-packages (from datasets) (2023.6.0)\r\n",
      "Requirement already satisfied: aiohttp in /opt/conda/lib/python3.10/site-packages (from datasets) (3.8.4)\r\n",
      "Requirement already satisfied: responses<0.19 in /opt/conda/lib/python3.10/site-packages (from datasets) (0.18.0)\r\n"
     ]
    },
    {
     "name": "stdout",
     "output_type": "stream",
     "text": [
      "Requirement already satisfied: attrs>=17.3.0 in /opt/conda/lib/python3.10/site-packages (from aiohttp->datasets) (23.1.0)\r\n",
      "Requirement already satisfied: charset-normalizer<4.0,>=2.0 in /opt/conda/lib/python3.10/site-packages (from aiohttp->datasets) (2.1.1)\r\n",
      "Requirement already satisfied: multidict<7.0,>=4.5 in /opt/conda/lib/python3.10/site-packages (from aiohttp->datasets) (6.0.4)\r\n",
      "Requirement already satisfied: async-timeout<5.0,>=4.0.0a3 in /opt/conda/lib/python3.10/site-packages (from aiohttp->datasets) (4.0.2)\r\n",
      "Requirement already satisfied: yarl<2.0,>=1.0 in /opt/conda/lib/python3.10/site-packages (from aiohttp->datasets) (1.9.1)\r\n",
      "Requirement already satisfied: frozenlist>=1.1.1 in /opt/conda/lib/python3.10/site-packages (from aiohttp->datasets) (1.3.3)\r\n",
      "Requirement already satisfied: aiosignal>=1.1.2 in /opt/conda/lib/python3.10/site-packages (from aiohttp->datasets) (1.3.1)\r\n"
     ]
    },
    {
     "name": "stdout",
     "output_type": "stream",
     "text": [
      "Requirement already satisfied: typing-extensions>=3.7.4.3 in /opt/conda/lib/python3.10/site-packages (from huggingface-hub<1.0,>=0.11.0->transformers==4.28.0) (4.5.0)\r\n",
      "Requirement already satisfied: pyparsing!=3.0.5,>=2.0.2 in /opt/conda/lib/python3.10/site-packages (from packaging>=20.0->transformers==4.28.0) (3.0.9)\r\n",
      "Requirement already satisfied: idna<4,>=2.5 in /opt/conda/lib/python3.10/site-packages (from requests->transformers==4.28.0) (3.4)\r\n",
      "Requirement already satisfied: urllib3<1.27,>=1.21.1 in /opt/conda/lib/python3.10/site-packages (from requests->transformers==4.28.0) (1.26.15)\r\n",
      "Requirement already satisfied: certifi>=2017.4.17 in /opt/conda/lib/python3.10/site-packages (from requests->transformers==4.28.0) (2023.5.7)\r\n"
     ]
    },
    {
     "name": "stdout",
     "output_type": "stream",
     "text": [
      "Requirement already satisfied: python-dateutil>=2.8.1 in /opt/conda/lib/python3.10/site-packages (from pandas->datasets) (2.8.2)\r\n",
      "Requirement already satisfied: pytz>=2020.1 in /opt/conda/lib/python3.10/site-packages (from pandas->datasets) (2023.3)\r\n"
     ]
    },
    {
     "name": "stdout",
     "output_type": "stream",
     "text": [
      "Requirement already satisfied: six>=1.5 in /opt/conda/lib/python3.10/site-packages (from python-dateutil>=2.8.1->pandas->datasets) (1.16.0)\r\n"
     ]
    },
    {
     "name": "stdout",
     "output_type": "stream",
     "text": [
      "Installing collected packages: transformers\r\n",
      "  Attempting uninstall: transformers\r\n"
     ]
    },
    {
     "name": "stdout",
     "output_type": "stream",
     "text": [
      "    Found existing installation: transformers 4.30.1\r\n"
     ]
    },
    {
     "name": "stdout",
     "output_type": "stream",
     "text": [
      "    Uninstalling transformers-4.30.1:\r\n"
     ]
    },
    {
     "name": "stdout",
     "output_type": "stream",
     "text": [
      "      Successfully uninstalled transformers-4.30.1\r\n"
     ]
    },
    {
     "name": "stdout",
     "output_type": "stream",
     "text": [
      "Successfully installed transformers-4.28.0\r\n",
      "\u001b[33mWARNING: Running pip as the 'root' user can result in broken permissions and conflicting behaviour with the system package manager. It is recommended to use a virtual environment instead: https://pip.pypa.io/warnings/venv\u001b[0m\u001b[33m\r\n",
      "\u001b[0m"
     ]
    }
   ],
   "source": [
    "!pip install datasets\n",
    "!pip install evaluate\n",
    "!pip install transformers==4.28.0 datasets"
   ]
  },
  {
   "cell_type": "code",
   "execution_count": 2,
   "id": "c4b0bb94",
   "metadata": {
    "execution": {
     "iopub.execute_input": "2023-06-29T08:51:16.276863Z",
     "iopub.status.busy": "2023-06-29T08:51:16.275172Z",
     "iopub.status.idle": "2023-06-29T08:51:29.385457Z",
     "shell.execute_reply": "2023-06-29T08:51:29.384210Z"
    },
    "id": "GQju8MkZI_Tv",
    "outputId": "f7b2dd81-ee94-4063-8ff0-cc55c9d88e77",
    "papermill": {
     "duration": 13.12652,
     "end_time": "2023-06-29T08:51:29.388125",
     "exception": false,
     "start_time": "2023-06-29T08:51:16.261605",
     "status": "completed"
    },
    "tags": []
   },
   "outputs": [
    {
     "name": "stdout",
     "output_type": "stream",
     "text": [
      "Requirement already satisfied: accelerate in /opt/conda/lib/python3.10/site-packages (0.12.0)\r\n"
     ]
    },
    {
     "name": "stdout",
     "output_type": "stream",
     "text": [
      "Collecting accelerate\r\n"
     ]
    },
    {
     "name": "stdout",
     "output_type": "stream",
     "text": [
      "  Downloading accelerate-0.20.3-py3-none-any.whl (227 kB)\r\n",
      "\u001b[?25l     \u001b[90m━━━━━━━━━━━━━━━━━━━━━━━━━━━━━━━━━━━━━━━━\u001b[0m \u001b[32m0.0/227.6 kB\u001b[0m \u001b[31m?\u001b[0m eta \u001b[36m-:--:--\u001b[0m"
     ]
    },
    {
     "name": "stdout",
     "output_type": "stream",
     "text": [
      "\r",
      "\u001b[2K     \u001b[91m━━━━━━━━━━━━━━━━━━━━━━━━━━━━━━━━━━━━━━\u001b[0m\u001b[91m╸\u001b[0m \u001b[32m225.3/227.6 kB\u001b[0m \u001b[31m7.8 MB/s\u001b[0m eta \u001b[36m0:00:01\u001b[0m\r",
      "\u001b[2K     \u001b[91m━━━━━━━━━━━━━━━━━━━━━━━━━━━━━━━━━━━━━━\u001b[0m\u001b[91m╸\u001b[0m \u001b[32m225.3/227.6 kB\u001b[0m \u001b[31m7.8 MB/s\u001b[0m eta \u001b[36m0:00:01\u001b[0m"
     ]
    },
    {
     "name": "stdout",
     "output_type": "stream",
     "text": [
      "\r",
      "\u001b[2K     \u001b[90m━━━━━━━━━━━━━━━━━━━━━━━━━━━━━━━━━━━━━━━\u001b[0m \u001b[32m227.6/227.6 kB\u001b[0m \u001b[31m2.5 MB/s\u001b[0m eta \u001b[36m0:00:00\u001b[0m\r\n",
      "\u001b[?25h"
     ]
    },
    {
     "name": "stdout",
     "output_type": "stream",
     "text": [
      "Requirement already satisfied: numpy>=1.17 in /opt/conda/lib/python3.10/site-packages (from accelerate) (1.23.5)\r\n",
      "Requirement already satisfied: packaging>=20.0 in /opt/conda/lib/python3.10/site-packages (from accelerate) (21.3)\r\n",
      "Requirement already satisfied: psutil in /opt/conda/lib/python3.10/site-packages (from accelerate) (5.9.3)\r\n",
      "Requirement already satisfied: pyyaml in /opt/conda/lib/python3.10/site-packages (from accelerate) (5.4.1)\r\n",
      "Requirement already satisfied: torch>=1.6.0 in /opt/conda/lib/python3.10/site-packages (from accelerate) (2.0.0)\r\n",
      "Requirement already satisfied: pyparsing!=3.0.5,>=2.0.2 in /opt/conda/lib/python3.10/site-packages (from packaging>=20.0->accelerate) (3.0.9)\r\n",
      "Requirement already satisfied: filelock in /opt/conda/lib/python3.10/site-packages (from torch>=1.6.0->accelerate) (3.12.0)\r\n",
      "Requirement already satisfied: typing-extensions in /opt/conda/lib/python3.10/site-packages (from torch>=1.6.0->accelerate) (4.5.0)\r\n",
      "Requirement already satisfied: sympy in /opt/conda/lib/python3.10/site-packages (from torch>=1.6.0->accelerate) (1.12)\r\n",
      "Requirement already satisfied: networkx in /opt/conda/lib/python3.10/site-packages (from torch>=1.6.0->accelerate) (3.1)\r\n"
     ]
    },
    {
     "name": "stdout",
     "output_type": "stream",
     "text": [
      "Requirement already satisfied: jinja2 in /opt/conda/lib/python3.10/site-packages (from torch>=1.6.0->accelerate) (3.1.2)\r\n",
      "Requirement already satisfied: MarkupSafe>=2.0 in /opt/conda/lib/python3.10/site-packages (from jinja2->torch>=1.6.0->accelerate) (2.1.2)\r\n"
     ]
    },
    {
     "name": "stdout",
     "output_type": "stream",
     "text": [
      "Requirement already satisfied: mpmath>=0.19 in /opt/conda/lib/python3.10/site-packages (from sympy->torch>=1.6.0->accelerate) (1.3.0)\r\n"
     ]
    },
    {
     "name": "stdout",
     "output_type": "stream",
     "text": [
      "Installing collected packages: accelerate\r\n",
      "  Attempting uninstall: accelerate\r\n",
      "    Found existing installation: accelerate 0.12.0\r\n"
     ]
    },
    {
     "name": "stdout",
     "output_type": "stream",
     "text": [
      "    Uninstalling accelerate-0.12.0:\r\n"
     ]
    },
    {
     "name": "stdout",
     "output_type": "stream",
     "text": [
      "      Successfully uninstalled accelerate-0.12.0\r\n"
     ]
    },
    {
     "name": "stdout",
     "output_type": "stream",
     "text": [
      "Successfully installed accelerate-0.20.3\r\n",
      "\u001b[33mWARNING: Running pip as the 'root' user can result in broken permissions and conflicting behaviour with the system package manager. It is recommended to use a virtual environment instead: https://pip.pypa.io/warnings/venv\u001b[0m\u001b[33m\r\n",
      "\u001b[0m"
     ]
    }
   ],
   "source": [
    "!pip install accelerate -U"
   ]
  },
  {
   "cell_type": "code",
   "execution_count": 3,
   "id": "4cc3045c",
   "metadata": {
    "execution": {
     "iopub.execute_input": "2023-06-29T08:51:29.415476Z",
     "iopub.status.busy": "2023-06-29T08:51:29.415135Z",
     "iopub.status.idle": "2023-06-29T08:51:34.392744Z",
     "shell.execute_reply": "2023-06-29T08:51:34.391301Z"
    },
    "id": "3IgTDd9vOgM7",
    "outputId": "153394f5-af56-4a26-ad75-0babe8adfd7e",
    "papermill": {
     "duration": 4.994774,
     "end_time": "2023-06-29T08:51:34.395899",
     "exception": false,
     "start_time": "2023-06-29T08:51:29.401125",
     "status": "completed"
    },
    "tags": []
   },
   "outputs": [
    {
     "name": "stdout",
     "output_type": "stream",
     "text": [
      "\r",
      "Reading package lists... 0%\r"
     ]
    },
    {
     "name": "stdout",
     "output_type": "stream",
     "text": [
      "\r",
      "Reading package lists... 0%\r",
      "\r",
      "Reading package lists... 0%\r"
     ]
    },
    {
     "name": "stdout",
     "output_type": "stream",
     "text": [
      "\r",
      "Reading package lists... 6%\r",
      "\r",
      "Reading package lists... 6%\r"
     ]
    },
    {
     "name": "stdout",
     "output_type": "stream",
     "text": [
      "\r",
      "Reading package lists... 7%\r",
      "\r",
      "Reading package lists... 7%\r"
     ]
    },
    {
     "name": "stdout",
     "output_type": "stream",
     "text": [
      "\r",
      "Reading package lists... 71%\r",
      "\r",
      "Reading package lists... 71%\r"
     ]
    },
    {
     "name": "stdout",
     "output_type": "stream",
     "text": [
      "\r",
      "Reading package lists... 72%\r",
      "\r",
      "Reading package lists... 72%\r",
      "\r",
      "Reading package lists... 75%\r",
      "\r",
      "Reading package lists... 75%\r",
      "\r",
      "Reading package lists... 78%\r",
      "\r",
      "Reading package lists... 78%\r"
     ]
    },
    {
     "name": "stdout",
     "output_type": "stream",
     "text": [
      "\r",
      "Reading package lists... 83%\r",
      "\r",
      "Reading package lists... 83%\r",
      "\r",
      "Reading package lists... 83%\r",
      "\r",
      "Reading package lists... 84%\r",
      "\r",
      "Reading package lists... 84%\r",
      "\r",
      "Reading package lists... 84%\r",
      "\r",
      "Reading package lists... 84%\r",
      "\r",
      "Reading package lists... 84%\r",
      "\r",
      "Reading package lists... 84%\r"
     ]
    },
    {
     "name": "stdout",
     "output_type": "stream",
     "text": [
      "\r",
      "Reading package lists... 86%\r",
      "\r",
      "Reading package lists... 86%\r",
      "\r",
      "Reading package lists... 89%\r",
      "\r",
      "Reading package lists... 89%\r",
      "\r",
      "Reading package lists... 93%\r",
      "\r",
      "Reading package lists... 93%\r",
      "\r",
      "Reading package lists... 93%\r",
      "\r",
      "Reading package lists... 93%\r"
     ]
    },
    {
     "name": "stdout",
     "output_type": "stream",
     "text": [
      "\r",
      "Reading package lists... 95%\r",
      "\r",
      "Reading package lists... 95%\r",
      "\r",
      "Reading package lists... 95%\r",
      "\r",
      "Reading package lists... 95%\r"
     ]
    },
    {
     "name": "stdout",
     "output_type": "stream",
     "text": [
      "\r",
      "Reading package lists... 99%\r",
      "\r",
      "Reading package lists... 99%\r",
      "\r",
      "Reading package lists... 99%\r",
      "\r",
      "Reading package lists... 99%\r",
      "\r",
      "Reading package lists... Done\r",
      "\r\n"
     ]
    },
    {
     "name": "stdout",
     "output_type": "stream",
     "text": [
      "\r",
      "Building dependency tree... 0%\r",
      "\r",
      "Building dependency tree... 0%\r",
      "\r",
      "Building dependency tree... 50%\r",
      "\r",
      "Building dependency tree... 50%\r"
     ]
    },
    {
     "name": "stdout",
     "output_type": "stream",
     "text": [
      "\r",
      "Building dependency tree... Done\r",
      "\r\n",
      "\r",
      "Reading state information... 0% \r",
      "\r",
      "Reading state information... 0%\r",
      "\r",
      "Reading state information... Done\r",
      "\r\n",
      "git-lfs is already the newest version (3.0.2-1ubuntu0.2).\r\n"
     ]
    },
    {
     "name": "stdout",
     "output_type": "stream",
     "text": [
      "0 upgraded, 0 newly installed, 0 to remove and 67 not upgraded.\r\n"
     ]
    }
   ],
   "source": [
    "!apt install git-lfs\n",
    "!git config --global user.email \"jyarac@unal.edu.co\"\n",
    "!git config --global user.name \"jyarac\""
   ]
  },
  {
   "cell_type": "code",
   "execution_count": null,
   "id": "5950e0ba",
   "metadata": {
    "id": "norJt69f_fps",
    "outputId": "d04a33c7-29b9-4f62-cde4-7b9e9456b0ea",
    "papermill": {
     "duration": 0.015321,
     "end_time": "2023-06-29T08:51:34.426645",
     "exception": false,
     "start_time": "2023-06-29T08:51:34.411324",
     "status": "completed"
    },
    "tags": []
   },
   "outputs": [],
   "source": []
  },
  {
   "cell_type": "code",
   "execution_count": 4,
   "id": "1778ac01",
   "metadata": {
    "execution": {
     "iopub.execute_input": "2023-06-29T08:51:34.458196Z",
     "iopub.status.busy": "2023-06-29T08:51:34.457149Z",
     "iopub.status.idle": "2023-06-29T08:51:35.623552Z",
     "shell.execute_reply": "2023-06-29T08:51:35.622372Z"
    },
    "id": "BP05rdqDDECC",
    "papermill": {
     "duration": 1.186007,
     "end_time": "2023-06-29T08:51:35.627066",
     "exception": false,
     "start_time": "2023-06-29T08:51:34.441059",
     "status": "completed"
    },
    "tags": []
   },
   "outputs": [],
   "source": [
    "from datasets import load_dataset, Dataset, Features, ClassLabel, Sequence, Value, DatasetDict\n",
    "import pandas as pd\n",
    "\n",
    "data = pd.read_csv('../input/restmex/Rest_Mex_Sentiment_Analysis_Train.tsv', sep='\\t', index_col=False)\n",
    "data_test = pd.read_csv('../input/restmex/Rest_Mex_Sentiment_Analysis_Test.tsv', sep='\\t', index_col=False)\n"
   ]
  },
  {
   "cell_type": "markdown",
   "id": "7ebae7c2",
   "metadata": {
    "id": "L9_ijU5XOyGc",
    "papermill": {
     "duration": 0.014598,
     "end_time": "2023-06-29T08:51:35.656816",
     "exception": false,
     "start_time": "2023-06-29T08:51:35.642218",
     "status": "completed"
    },
    "tags": []
   },
   "source": [
    "# Preprocesamiento\n"
   ]
  },
  {
   "cell_type": "code",
   "execution_count": 5,
   "id": "87b2ddf3",
   "metadata": {
    "execution": {
     "iopub.execute_input": "2023-06-29T08:51:35.687543Z",
     "iopub.status.busy": "2023-06-29T08:51:35.687161Z",
     "iopub.status.idle": "2023-06-29T08:51:35.712402Z",
     "shell.execute_reply": "2023-06-29T08:51:35.711235Z"
    },
    "id": "rzmNLrfOEcPM",
    "papermill": {
     "duration": 0.043238,
     "end_time": "2023-06-29T08:51:35.714686",
     "exception": false,
     "start_time": "2023-06-29T08:51:35.671448",
     "status": "completed"
    },
    "tags": []
   },
   "outputs": [],
   "source": [
    "data_test.dropna(subset=['Review'], inplace=True)\n",
    "data.dropna(subset=['Review'], inplace=True)"
   ]
  },
  {
   "cell_type": "code",
   "execution_count": 6,
   "id": "9a455f97",
   "metadata": {
    "execution": {
     "iopub.execute_input": "2023-06-29T08:51:35.744534Z",
     "iopub.status.busy": "2023-06-29T08:51:35.744188Z",
     "iopub.status.idle": "2023-06-29T08:51:35.753493Z",
     "shell.execute_reply": "2023-06-29T08:51:35.752503Z"
    },
    "id": "YF7XYoItGBMo",
    "papermill": {
     "duration": 0.026848,
     "end_time": "2023-06-29T08:51:35.755635",
     "exception": false,
     "start_time": "2023-06-29T08:51:35.728787",
     "status": "completed"
    },
    "tags": []
   },
   "outputs": [],
   "source": [
    "data_test.drop([\"ID\", \"Unnamed: 2\"], axis=1, inplace= True)\n",
    "data.drop([\"Unnamed: 2\", \"Unnamed: 3\"], axis=1, inplace= True)\n"
   ]
  },
  {
   "cell_type": "code",
   "execution_count": 7,
   "id": "c420a275",
   "metadata": {
    "execution": {
     "iopub.execute_input": "2023-06-29T08:51:35.785938Z",
     "iopub.status.busy": "2023-06-29T08:51:35.785066Z",
     "iopub.status.idle": "2023-06-29T08:51:37.220565Z",
     "shell.execute_reply": "2023-06-29T08:51:37.219557Z"
    },
    "id": "DLJYIr8djGzG",
    "papermill": {
     "duration": 1.45409,
     "end_time": "2023-06-29T08:51:37.223908",
     "exception": false,
     "start_time": "2023-06-29T08:51:35.769818",
     "status": "completed"
    },
    "tags": []
   },
   "outputs": [],
   "source": [
    "from sklearn.model_selection import train_test_split\n",
    "a,b = train_test_split(data, test_size=0.30, stratify = data['Class'])\n"
   ]
  },
  {
   "cell_type": "code",
   "execution_count": 8,
   "id": "c0addca9",
   "metadata": {
    "execution": {
     "iopub.execute_input": "2023-06-29T08:51:37.269498Z",
     "iopub.status.busy": "2023-06-29T08:51:37.269034Z",
     "iopub.status.idle": "2023-06-29T08:51:37.358993Z",
     "shell.execute_reply": "2023-06-29T08:51:37.358026Z"
    },
    "id": "0QqaSYNblU2Z",
    "outputId": "3aa44333-67ab-4312-ebb9-6b9c56e633fc",
    "papermill": {
     "duration": 0.116563,
     "end_time": "2023-06-29T08:51:37.361986",
     "exception": false,
     "start_time": "2023-06-29T08:51:37.245423",
     "status": "completed"
    },
    "tags": []
   },
   "outputs": [
    {
     "data": {
      "text/plain": [
       "DatasetDict({\n",
       "    train: Dataset({\n",
       "        features: ['Review', 'labels'],\n",
       "        num_rows: 12250\n",
       "    })\n",
       "    test: Dataset({\n",
       "        features: ['Review', 'labels'],\n",
       "        num_rows: 5250\n",
       "    })\n",
       "})"
      ]
     },
     "execution_count": 8,
     "metadata": {},
     "output_type": "execute_result"
    }
   ],
   "source": [
    "from datasets import Dataset, concatenate_datasets, DatasetDict\n",
    "\n",
    "ds_train = Dataset.from_pandas(a)\n",
    "ds_test = Dataset.from_pandas(b)\n",
    "ds_train = ds_train.remove_columns('__index_level_0__')\n",
    "ds_test = ds_test.remove_columns('__index_level_0__')\n",
    "ds_dict = {'train' : ds_train, 'test':ds_test}\n",
    "dataset = DatasetDict(ds_dict)\n",
    "dataset = dataset.rename_column(\"Class\", \"labels\")\n",
    "dataset"
   ]
  },
  {
   "cell_type": "code",
   "execution_count": 9,
   "id": "bb16542c",
   "metadata": {
    "execution": {
     "iopub.execute_input": "2023-06-29T08:51:37.407774Z",
     "iopub.status.busy": "2023-06-29T08:51:37.407333Z",
     "iopub.status.idle": "2023-06-29T08:51:39.199367Z",
     "shell.execute_reply": "2023-06-29T08:51:39.198621Z"
    },
    "id": "e502ISOYKuYf",
    "outputId": "51e3bc49-04f5-401d-8c6f-1602cc43d6bc",
    "papermill": {
     "duration": 1.817091,
     "end_time": "2023-06-29T08:51:39.201369",
     "exception": false,
     "start_time": "2023-06-29T08:51:37.384278",
     "status": "completed"
    },
    "tags": []
   },
   "outputs": [
    {
     "data": {
      "application/vnd.jupyter.widget-view+json": {
       "model_id": "2345b601d9374388bc2c41c7b5561114",
       "version_major": 2,
       "version_minor": 0
      },
      "text/plain": [
       "  0%|          | 0/12250 [00:00<?, ?ex/s]"
      ]
     },
     "metadata": {},
     "output_type": "display_data"
    },
    {
     "data": {
      "application/vnd.jupyter.widget-view+json": {
       "model_id": "102a2f3446484768ac65979606ca60d8",
       "version_major": 2,
       "version_minor": 0
      },
      "text/plain": [
       "  0%|          | 0/5250 [00:00<?, ?ex/s]"
      ]
     },
     "metadata": {},
     "output_type": "display_data"
    },
    {
     "name": "stdout",
     "output_type": "stream",
     "text": [
      "4    3675\n",
      "3    3062\n",
      "2    2450\n",
      "1    1838\n",
      "0    1225\n",
      "Name: labels, dtype: int64\n"
     ]
    }
   ],
   "source": [
    "def polarity_init(example):\n",
    "  example[\"labels\"] = example[\"labels\"] - 1\n",
    "  return example\n",
    "\n",
    "dataset = dataset.map(polarity_init)\n",
    "\n",
    "dataset.set_format(\"pandas\")\n",
    "df = dataset[\"train\"][:]\n",
    "print(df[\"labels\"].value_counts())\n",
    "dataset.reset_format()"
   ]
  },
  {
   "cell_type": "markdown",
   "id": "f1c2c945",
   "metadata": {
    "id": "dMKdTEIdEyfE",
    "papermill": {
     "duration": 0.014294,
     "end_time": "2023-06-29T08:51:39.230758",
     "exception": false,
     "start_time": "2023-06-29T08:51:39.216464",
     "status": "completed"
    },
    "tags": []
   },
   "source": [
    "#tokenizacion\n"
   ]
  },
  {
   "cell_type": "code",
   "execution_count": 10,
   "id": "9f6cb48f",
   "metadata": {
    "execution": {
     "iopub.execute_input": "2023-06-29T08:51:39.262047Z",
     "iopub.status.busy": "2023-06-29T08:51:39.261158Z",
     "iopub.status.idle": "2023-06-29T08:51:41.889065Z",
     "shell.execute_reply": "2023-06-29T08:51:41.888020Z"
    },
    "id": "V6ZMjnw6SH26",
    "outputId": "a6a15628-a12a-4b37-92ca-9b8460da06db",
    "papermill": {
     "duration": 2.645877,
     "end_time": "2023-06-29T08:51:41.891799",
     "exception": false,
     "start_time": "2023-06-29T08:51:39.245922",
     "status": "completed"
    },
    "tags": []
   },
   "outputs": [
    {
     "data": {
      "application/vnd.jupyter.widget-view+json": {
       "model_id": "05fc6f9fe1f74a7f9fb91417380320d4",
       "version_major": 2,
       "version_minor": 0
      },
      "text/plain": [
       "Downloading (…)okenizer_config.json:   0%|          | 0.00/39.0 [00:00<?, ?B/s]"
      ]
     },
     "metadata": {},
     "output_type": "display_data"
    },
    {
     "data": {
      "application/vnd.jupyter.widget-view+json": {
       "model_id": "48a666b6794a447e9566597d943a6480",
       "version_major": 2,
       "version_minor": 0
      },
      "text/plain": [
       "Downloading (…)lve/main/config.json:   0%|          | 0.00/953 [00:00<?, ?B/s]"
      ]
     },
     "metadata": {},
     "output_type": "display_data"
    },
    {
     "data": {
      "application/vnd.jupyter.widget-view+json": {
       "model_id": "acbb10704837427598782be45c6056b4",
       "version_major": 2,
       "version_minor": 0
      },
      "text/plain": [
       "Downloading (…)solve/main/vocab.txt:   0%|          | 0.00/872k [00:00<?, ?B/s]"
      ]
     },
     "metadata": {},
     "output_type": "display_data"
    },
    {
     "data": {
      "application/vnd.jupyter.widget-view+json": {
       "model_id": "7ba99956770545689bb5fceb47d79655",
       "version_major": 2,
       "version_minor": 0
      },
      "text/plain": [
       "Downloading (…)cial_tokens_map.json:   0%|          | 0.00/112 [00:00<?, ?B/s]"
      ]
     },
     "metadata": {},
     "output_type": "display_data"
    }
   ],
   "source": [
    "from transformers import AutoTokenizer\n",
    "model_checkpoint= \"nlptown/bert-base-multilingual-uncased-sentiment\"\n",
    "\n",
    "tokenizer = AutoTokenizer.from_pretrained(model_checkpoint)\n"
   ]
  },
  {
   "cell_type": "code",
   "execution_count": 11,
   "id": "bd66bc1a",
   "metadata": {
    "execution": {
     "iopub.execute_input": "2023-06-29T08:51:41.926532Z",
     "iopub.status.busy": "2023-06-29T08:51:41.925873Z",
     "iopub.status.idle": "2023-06-29T08:51:47.633090Z",
     "shell.execute_reply": "2023-06-29T08:51:47.632074Z"
    },
    "id": "AQXew25ih5Ca",
    "outputId": "c9b67641-518b-433f-c053-f173b9013187",
    "papermill": {
     "duration": 5.726694,
     "end_time": "2023-06-29T08:51:47.635352",
     "exception": false,
     "start_time": "2023-06-29T08:51:41.908658",
     "status": "completed"
    },
    "tags": []
   },
   "outputs": [
    {
     "data": {
      "application/vnd.jupyter.widget-view+json": {
       "model_id": "ac07ee4da1644f47a908f3e2fa546cfb",
       "version_major": 2,
       "version_minor": 0
      },
      "text/plain": [
       "  0%|          | 0/13 [00:00<?, ?ba/s]"
      ]
     },
     "metadata": {},
     "output_type": "display_data"
    },
    {
     "data": {
      "application/vnd.jupyter.widget-view+json": {
       "model_id": "5d48f4895d324d68b49eeadd0728f405",
       "version_major": 2,
       "version_minor": 0
      },
      "text/plain": [
       "  0%|          | 0/6 [00:00<?, ?ba/s]"
      ]
     },
     "metadata": {},
     "output_type": "display_data"
    },
    {
     "data": {
      "text/plain": [
       "DatasetDict({\n",
       "    train: Dataset({\n",
       "        features: ['labels', 'input_ids', 'token_type_ids', 'attention_mask'],\n",
       "        num_rows: 12250\n",
       "    })\n",
       "    test: Dataset({\n",
       "        features: ['labels', 'input_ids', 'token_type_ids', 'attention_mask'],\n",
       "        num_rows: 5250\n",
       "    })\n",
       "})"
      ]
     },
     "execution_count": 11,
     "metadata": {},
     "output_type": "execute_result"
    }
   ],
   "source": [
    "def tokenize_reviews(examples):\n",
    "    return tokenizer(examples[\"Review\"], truncation=True)\n",
    "\n",
    "columns = dataset[\"train\"].column_names\n",
    "columns.remove(\"labels\")\n",
    "encoded_dataset = dataset.map(tokenize_reviews, batched=True, remove_columns=columns)\n",
    "encoded_dataset"
   ]
  },
  {
   "cell_type": "markdown",
   "id": "15cfc26f",
   "metadata": {
    "id": "P118XwMAE9Ai",
    "papermill": {
     "duration": 0.01708,
     "end_time": "2023-06-29T08:51:47.669436",
     "exception": false,
     "start_time": "2023-06-29T08:51:47.652356",
     "status": "completed"
    },
    "tags": []
   },
   "source": [
    "#Cargar modelo y metricas\n"
   ]
  },
  {
   "cell_type": "code",
   "execution_count": 12,
   "id": "e1a6e7a1",
   "metadata": {
    "execution": {
     "iopub.execute_input": "2023-06-29T08:51:47.703750Z",
     "iopub.status.busy": "2023-06-29T08:51:47.702846Z",
     "iopub.status.idle": "2023-06-29T08:52:06.104189Z",
     "shell.execute_reply": "2023-06-29T08:52:06.103038Z"
    },
    "id": "8PORatUlBw0E",
    "outputId": "667ac7a1-0f38-41d6-a36e-f0c1e331f04b",
    "papermill": {
     "duration": 18.421331,
     "end_time": "2023-06-29T08:52:06.106866",
     "exception": false,
     "start_time": "2023-06-29T08:51:47.685535",
     "status": "completed"
    },
    "tags": []
   },
   "outputs": [
    {
     "name": "stderr",
     "output_type": "stream",
     "text": [
      "/opt/conda/lib/python3.10/site-packages/tensorflow_io/python/ops/__init__.py:98: UserWarning: unable to load libtensorflow_io_plugins.so: unable to open file: libtensorflow_io_plugins.so, from paths: ['/opt/conda/lib/python3.10/site-packages/tensorflow_io/python/ops/libtensorflow_io_plugins.so']\n",
      "caused by: ['/opt/conda/lib/python3.10/site-packages/tensorflow_io/python/ops/libtensorflow_io_plugins.so: undefined symbol: _ZN3tsl6StatusC1EN10tensorflow5error4CodeESt17basic_string_viewIcSt11char_traitsIcEENS_14SourceLocationE']\n",
      "  warnings.warn(f\"unable to load libtensorflow_io_plugins.so: {e}\")\n",
      "/opt/conda/lib/python3.10/site-packages/tensorflow_io/python/ops/__init__.py:104: UserWarning: file system plugins are not loaded: unable to open file: libtensorflow_io.so, from paths: ['/opt/conda/lib/python3.10/site-packages/tensorflow_io/python/ops/libtensorflow_io.so']\n",
      "caused by: ['/opt/conda/lib/python3.10/site-packages/tensorflow_io/python/ops/libtensorflow_io.so: undefined symbol: _ZTVN10tensorflow13GcsFileSystemE']\n",
      "  warnings.warn(f\"file system plugins are not loaded: {e}\")\n"
     ]
    },
    {
     "data": {
      "application/vnd.jupyter.widget-view+json": {
       "model_id": "80ae81155f0b4e85ba70c1e4f932ba52",
       "version_major": 2,
       "version_minor": 0
      },
      "text/plain": [
       "Downloading pytorch_model.bin:   0%|          | 0.00/669M [00:00<?, ?B/s]"
      ]
     },
     "metadata": {},
     "output_type": "display_data"
    }
   ],
   "source": [
    "from transformers import AutoModelForSequenceClassification\n",
    "\n",
    "num_labels = 5\n",
    "model = AutoModelForSequenceClassification.from_pretrained(model_checkpoint, num_labels=num_labels)"
   ]
  },
  {
   "cell_type": "code",
   "execution_count": 13,
   "id": "c949d3d2",
   "metadata": {
    "execution": {
     "iopub.execute_input": "2023-06-29T08:52:06.143617Z",
     "iopub.status.busy": "2023-06-29T08:52:06.143232Z",
     "iopub.status.idle": "2023-06-29T08:52:06.767572Z",
     "shell.execute_reply": "2023-06-29T08:52:06.766430Z"
    },
    "id": "a6-eVdtwFEey",
    "outputId": "81cf99aa-a42c-4127-96d9-53fb5bc2ac44",
    "papermill": {
     "duration": 0.645353,
     "end_time": "2023-06-29T08:52:06.770101",
     "exception": false,
     "start_time": "2023-06-29T08:52:06.124748",
     "status": "completed"
    },
    "tags": []
   },
   "outputs": [
    {
     "data": {
      "application/vnd.jupyter.widget-view+json": {
       "model_id": "ef0dd35c64264e82b57e2c0331dc89c9",
       "version_major": 2,
       "version_minor": 0
      },
      "text/plain": [
       "Downloading builder script:   0%|          | 0.00/2.06k [00:00<?, ?B/s]"
      ]
     },
     "metadata": {},
     "output_type": "display_data"
    },
    {
     "data": {
      "text/plain": [
       "Metric(name: \"f1\", features: {'predictions': Value(dtype='int32', id=None), 'references': Value(dtype='int32', id=None)}, usage: \"\"\"\n",
       "Args:\n",
       "    predictions: Predicted labels, as returned by a model.\n",
       "    references: Ground truth labels.\n",
       "    labels: The set of labels to include when average != 'binary', and\n",
       "        their order if average is None. Labels present in the data can\n",
       "        be excluded, for example to calculate a multiclass average ignoring\n",
       "        a majority negative class, while labels not present in the data will\n",
       "        result in 0 components in a macro average. For multilabel targets,\n",
       "        labels are column indices. By default, all labels in y_true and\n",
       "        y_pred are used in sorted order.\n",
       "    average: This parameter is required for multiclass/multilabel targets.\n",
       "        If None, the scores for each class are returned. Otherwise, this\n",
       "        determines the type of averaging performed on the data:\n",
       "            binary: Only report results for the class specified by pos_label.\n",
       "                This is applicable only if targets (y_{true,pred}) are binary.\n",
       "            micro: Calculate metrics globally by counting the total true positives,\n",
       "                false negatives and false positives.\n",
       "            macro: Calculate metrics for each label, and find their unweighted mean.\n",
       "                This does not take label imbalance into account.\n",
       "            weighted: Calculate metrics for each label, and find their average\n",
       "                weighted by support (the number of true instances for each label).\n",
       "                This alters ‘macro’ to account for label imbalance; it can result\n",
       "                in an F-score that is not between precision and recall.\n",
       "            samples: Calculate metrics for each instance, and find their average\n",
       "                (only meaningful for multilabel classification).\n",
       "    sample_weight: Sample weights.\n",
       "Returns:\n",
       "    f1: F1 score.\n",
       "Examples:\n",
       "\n",
       "    >>> f1_metric = datasets.load_metric(\"f1\")\n",
       "    >>> results = f1_metric.compute(predictions=[0, 1], references=[0, 1])\n",
       "    >>> print(results)\n",
       "    {'f1': 1.0}\n",
       "\n",
       "    >>> predictions = [0, 2, 1, 0, 0, 1]\n",
       "    >>> references = [0, 1, 2, 0, 1, 2]\n",
       "    >>> results = f1_metric.compute(predictions=predictions, references=references, average=\"macro\")\n",
       "    >>> print(results)\n",
       "    {'f1': 0.26666666666666666}\n",
       "    >>> results = f1_metric.compute(predictions=predictions, references=references, average=\"micro\")\n",
       "    >>> print(results)\n",
       "    {'f1': 0.3333333333333333}\n",
       "    >>> results = f1_metric.compute(predictions=predictions, references=references, average=\"weighted\")\n",
       "    >>> print(results)\n",
       "    {'f1': 0.26666666666666666}\n",
       "    >>> results = f1_metric.compute(predictions=predictions, references=references, average=None)\n",
       "    >>> print(results)\n",
       "    {'f1': array([0.8, 0. , 0. ])}\n",
       "\"\"\", stored examples: 0)"
      ]
     },
     "execution_count": 13,
     "metadata": {},
     "output_type": "execute_result"
    }
   ],
   "source": [
    "from datasets import load_metric\n",
    "\n",
    "metric = load_metric(\"f1\")\n",
    "metric"
   ]
  },
  {
   "cell_type": "code",
   "execution_count": 14,
   "id": "37b74141",
   "metadata": {
    "execution": {
     "iopub.execute_input": "2023-06-29T08:52:06.804552Z",
     "iopub.status.busy": "2023-06-29T08:52:06.804227Z",
     "iopub.status.idle": "2023-06-29T08:52:06.810212Z",
     "shell.execute_reply": "2023-06-29T08:52:06.809192Z"
    },
    "id": "o8_1URx8FJZP",
    "papermill": {
     "duration": 0.026082,
     "end_time": "2023-06-29T08:52:06.812436",
     "exception": false,
     "start_time": "2023-06-29T08:52:06.786354",
     "status": "completed"
    },
    "tags": []
   },
   "outputs": [],
   "source": [
    "import numpy as np\n",
    "\n",
    "def compute_metrics(eval_pred):\n",
    "    predictions, labels = eval_pred\n",
    "    predictions = np.argmax(predictions, axis=1)\n",
    "    return metric.compute(predictions=predictions, references=labels, average=\"weighted\")"
   ]
  },
  {
   "cell_type": "markdown",
   "id": "cb29c19e",
   "metadata": {
    "id": "SAhh96OrGdbJ",
    "papermill": {
     "duration": 0.016795,
     "end_time": "2023-06-29T08:52:06.846381",
     "exception": false,
     "start_time": "2023-06-29T08:52:06.829586",
     "status": "completed"
    },
    "tags": []
   },
   "source": [
    "# Fine tuning\n"
   ]
  },
  {
   "cell_type": "code",
   "execution_count": null,
   "id": "144f7df2",
   "metadata": {
    "execution": {
     "iopub.execute_input": "2023-06-29T06:47:46.653548Z",
     "iopub.status.busy": "2023-06-29T06:47:46.653133Z",
     "iopub.status.idle": "2023-06-29T06:47:56.314996Z",
     "shell.execute_reply": "2023-06-29T06:47:56.313728Z",
     "shell.execute_reply.started": "2023-06-29T06:47:46.653510Z"
    },
    "id": "yZhUHqCO312n",
    "papermill": {
     "duration": null,
     "end_time": null,
     "exception": false,
     "start_time": "2023-06-29T08:52:06.863402",
     "status": "running"
    },
    "tags": []
   },
   "outputs": [],
   "source": [
    "!huggingface-cli login"
   ]
  },
  {
   "cell_type": "code",
   "execution_count": null,
   "id": "3e6ace55",
   "metadata": {
    "execution": {
     "iopub.execute_input": "2023-06-29T08:33:12.406329Z",
     "iopub.status.busy": "2023-06-29T08:33:12.405902Z",
     "iopub.status.idle": "2023-06-29T08:33:12.457984Z",
     "shell.execute_reply": "2023-06-29T08:33:12.456949Z",
     "shell.execute_reply.started": "2023-06-29T08:33:12.406298Z"
    },
    "papermill": {
     "duration": null,
     "end_time": null,
     "exception": null,
     "start_time": null,
     "status": "pending"
    },
    "tags": []
   },
   "outputs": [],
   "source": [
    "from huggingface_hub import notebook_login\n",
    "notebook_login()"
   ]
  },
  {
   "cell_type": "code",
   "execution_count": null,
   "id": "1fd54826",
   "metadata": {
    "execution": {
     "iopub.execute_input": "2023-06-29T06:54:44.027569Z",
     "iopub.status.busy": "2023-06-29T06:54:44.027111Z",
     "iopub.status.idle": "2023-06-29T06:54:44.114836Z",
     "shell.execute_reply": "2023-06-29T06:54:44.113937Z",
     "shell.execute_reply.started": "2023-06-29T06:54:44.027526Z"
    },
    "id": "jVABIQSHGiSh",
    "outputId": "4d7a2338-a959-4871-d6a2-26d8e3d1b530",
    "papermill": {
     "duration": null,
     "end_time": null,
     "exception": null,
     "start_time": null,
     "status": "pending"
    },
    "tags": []
   },
   "outputs": [],
   "source": [
    "from transformers import TrainingArguments\n",
    "\n",
    "model_name = model_checkpoint.split(\"/\")[-1]\n",
    "\n",
    "batch_size = 16\n",
    "num_train_epochs=4\n",
    "train_dataset = encoded_dataset[\"train\"]\n",
    "logging_steps = len(train_dataset) // (2 * batch_size * num_train_epochs)\n",
    "\n",
    "training_args = TrainingArguments(\n",
    "    output_dir=\"results\",\n",
    "    num_train_epochs=num_train_epochs,\n",
    "    learning_rate=2e-5,\n",
    "    per_device_train_batch_size=batch_size,\n",
    "    per_device_eval_batch_size=batch_size,\n",
    "    load_best_model_at_end=True,\n",
    "    metric_for_best_model=\"f1\",\n",
    "    weight_decay=0.01,\n",
    "    evaluation_strategy=\"epoch\",\n",
    "    save_strategy=\"epoch\",\n",
    "    logging_steps=logging_steps,\n",
    "    push_to_hub=True,\n",
    "    push_to_hub_model_id=f\"{model_name}-MeIA\"\n",
    ")"
   ]
  },
  {
   "cell_type": "code",
   "execution_count": null,
   "id": "fca5177c",
   "metadata": {
    "execution": {
     "iopub.execute_input": "2023-06-29T06:54:47.898150Z",
     "iopub.status.busy": "2023-06-29T06:54:47.897656Z",
     "iopub.status.idle": "2023-06-29T06:54:50.330228Z",
     "shell.execute_reply": "2023-06-29T06:54:50.329224Z",
     "shell.execute_reply.started": "2023-06-29T06:54:47.898110Z"
    },
    "id": "63JedsoWIZsG",
    "outputId": "0ddb60d8-cca6-4922-d46b-d8fc82a3dd80",
    "papermill": {
     "duration": null,
     "end_time": null,
     "exception": null,
     "start_time": null,
     "status": "pending"
    },
    "tags": []
   },
   "outputs": [],
   "source": [
    "from transformers import Trainer\n",
    "\n",
    "trainer = Trainer(\n",
    "    model=model,\n",
    "    args=training_args,\n",
    "    compute_metrics=compute_metrics,\n",
    "    train_dataset=train_dataset,\n",
    "    eval_dataset=encoded_dataset[\"test\"],\n",
    "    tokenizer=tokenizer\n",
    ")"
   ]
  },
  {
   "cell_type": "code",
   "execution_count": null,
   "id": "33ad80f3",
   "metadata": {
    "execution": {
     "iopub.execute_input": "2023-06-29T06:54:51.600797Z",
     "iopub.status.busy": "2023-06-29T06:54:51.600335Z",
     "iopub.status.idle": "2023-06-29T07:32:15.427323Z",
     "shell.execute_reply": "2023-06-29T07:32:15.424481Z",
     "shell.execute_reply.started": "2023-06-29T06:54:51.600760Z"
    },
    "id": "ccUOv5WQIaWs",
    "outputId": "25f9cf76-7298-4500-d3da-f164408eed6e",
    "papermill": {
     "duration": null,
     "end_time": null,
     "exception": null,
     "start_time": null,
     "status": "pending"
    },
    "tags": []
   },
   "outputs": [],
   "source": [
    "trainer.train()"
   ]
  },
  {
   "cell_type": "code",
   "execution_count": null,
   "id": "2a79b545",
   "metadata": {
    "execution": {
     "iopub.status.busy": "2023-06-29T07:32:15.428762Z",
     "iopub.status.idle": "2023-06-29T07:32:15.429589Z",
     "shell.execute_reply": "2023-06-29T07:32:15.429295Z",
     "shell.execute_reply.started": "2023-06-29T07:32:15.429268Z"
    },
    "id": "PL7g7xtcIdFx",
    "papermill": {
     "duration": null,
     "end_time": null,
     "exception": null,
     "start_time": null,
     "status": "pending"
    },
    "tags": []
   },
   "outputs": [],
   "source": [
    "eval_results = trainer.evaluate()\n",
    "print(eval_results)"
   ]
  },
  {
   "cell_type": "code",
   "execution_count": null,
   "id": "dcdbe04b",
   "metadata": {
    "id": "YPFlFB8sSZgj",
    "papermill": {
     "duration": null,
     "end_time": null,
     "exception": null,
     "start_time": null,
     "status": "pending"
    },
    "tags": []
   },
   "outputs": [],
   "source": []
  },
  {
   "cell_type": "markdown",
   "id": "4f638cd1",
   "metadata": {
    "id": "6iWeJu_AmUVY",
    "papermill": {
     "duration": null,
     "end_time": null,
     "exception": null,
     "start_time": null,
     "status": "pending"
    },
    "tags": []
   },
   "source": [
    "# SADASD\n"
   ]
  },
  {
   "cell_type": "markdown",
   "id": "43a5a4f2",
   "metadata": {
    "papermill": {
     "duration": null,
     "end_time": null,
     "exception": null,
     "start_time": null,
     "status": "pending"
    },
    "tags": []
   },
   "source": []
  },
  {
   "cell_type": "code",
   "execution_count": null,
   "id": "41c4fa1d",
   "metadata": {
    "id": "kjfOrhQdcLcP",
    "outputId": "b7d2b581-cb1f-4157-d995-4003248671df",
    "papermill": {
     "duration": null,
     "end_time": null,
     "exception": null,
     "start_time": null,
     "status": "pending"
    },
    "tags": []
   },
   "outputs": [],
   "source": []
  },
  {
   "cell_type": "code",
   "execution_count": null,
   "id": "80d30c0f",
   "metadata": {
    "execution": {
     "iopub.execute_input": "2023-06-29T07:32:21.138747Z",
     "iopub.status.busy": "2023-06-29T07:32:21.138366Z",
     "iopub.status.idle": "2023-06-29T07:33:32.270018Z",
     "shell.execute_reply": "2023-06-29T07:33:32.269016Z",
     "shell.execute_reply.started": "2023-06-29T07:32:21.138714Z"
    },
    "id": "vY3WZep7fqET",
    "papermill": {
     "duration": null,
     "end_time": null,
     "exception": null,
     "start_time": null,
     "status": "pending"
    },
    "tags": []
   },
   "outputs": [],
   "source": [
    "trainer.push_to_hub()"
   ]
  },
  {
   "cell_type": "code",
   "execution_count": null,
   "id": "b91d0db7",
   "metadata": {
    "execution": {
     "iopub.execute_input": "2023-06-29T08:33:46.124089Z",
     "iopub.status.busy": "2023-06-29T08:33:46.123674Z",
     "iopub.status.idle": "2023-06-29T08:33:48.652491Z",
     "shell.execute_reply": "2023-06-29T08:33:48.650445Z",
     "shell.execute_reply.started": "2023-06-29T08:33:46.124056Z"
    },
    "id": "hzBZQ6ZVukoK",
    "papermill": {
     "duration": null,
     "end_time": null,
     "exception": null,
     "start_time": null,
     "status": "pending"
    },
    "tags": []
   },
   "outputs": [],
   "source": [
    "from transformers import pipeline\n",
    "pi = pipeline(\"text-classification\", model=\"jyarac/bert-base-multilingual-uncased-sentiment-MeIA\", max_length=512, truncation=True)"
   ]
  },
  {
   "cell_type": "code",
   "execution_count": null,
   "id": "984ca118",
   "metadata": {
    "execution": {
     "iopub.execute_input": "2023-06-29T08:39:15.312526Z",
     "iopub.status.busy": "2023-06-29T08:39:15.312077Z"
    },
    "id": "T8xU2a3nf15Q",
    "papermill": {
     "duration": null,
     "end_time": null,
     "exception": null,
     "start_time": null,
     "status": "pending"
    },
    "tags": []
   },
   "outputs": [],
   "source": [
    "#Abrir archivo de texto en modo escritura para almacenar los resultados para el reto\n",
    "with open('optimizadoresDePalabras-3.txt', 'w') as f:\n",
    "  for i in range(len(data_test)):\n",
    "      res = pi(data_test.iloc[i]['Review'])\n",
    "      label = res[0]['label']\n",
    "      #Establecer la etiqueta correspondiente\n",
    "      if label == 'LABEL_0':\n",
    "        label = \"1\"\n",
    "      elif label == 'LABEL_1':\n",
    "        label = \"2\"\n",
    "      elif label == 'LABEL_2':\n",
    "        label = \"3\"\n",
    "      elif label == 'LABEL_3':\n",
    "        label = \"4\"\n",
    "      elif label == 'LABEL_4':\n",
    "        label = \"5\"\n",
    "      #Escribir predicción del sentimiento en el archivo de texto con el formaro correspondiente\n",
    "      f.write(str(i)+\"\\t\"+label+\"\\n\")\n",
    "    \n",
    "    #Imprimir en pantalla lo que se escribio en el archivo txt\n",
    "      #Descomente si solo quiere probar este bloque de codigo para las primeras tres instancias de pruebas\n",
    "print(\"ready\")"
   ]
  },
  {
   "cell_type": "code",
   "execution_count": null,
   "id": "bf4d645b",
   "metadata": {
    "papermill": {
     "duration": null,
     "end_time": null,
     "exception": null,
     "start_time": null,
     "status": "pending"
    },
    "tags": []
   },
   "outputs": [],
   "source": []
  }
 ],
 "metadata": {
  "kernelspec": {
   "display_name": "Python 3",
   "language": "python",
   "name": "python3"
  },
  "language_info": {
   "codemirror_mode": {
    "name": "ipython",
    "version": 3
   },
   "file_extension": ".py",
   "mimetype": "text/x-python",
   "name": "python",
   "nbconvert_exporter": "python",
   "pygments_lexer": "ipython3",
   "version": "3.6.4"
  },
  "papermill": {
   "default_parameters": {},
   "duration": null,
   "end_time": null,
   "environment_variables": {},
   "exception": null,
   "input_path": "__notebook__.ipynb",
   "output_path": "__notebook__.ipynb",
   "parameters": {},
   "start_time": "2023-06-29T08:50:15.879893",
   "version": "2.4.0"
  }
 },
 "nbformat": 4,
 "nbformat_minor": 5
}